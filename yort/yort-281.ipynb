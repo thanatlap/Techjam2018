{
 "cells": [
  {
   "cell_type": "code",
   "execution_count": 63,
   "metadata": {},
   "outputs": [],
   "source": [
    "import pandas\n",
    "import numpy\n",
    "\n",
    "import numpy as np\n",
    "import pandas as pd\n",
    "import matplotlib.pyplot as plt\n",
    "%matplotlib inline\n",
    "\n",
    "import sklearn\n",
    "from sklearn.model_selection import train_test_split\n",
    "\n",
    "from sklearn.ensemble import RandomForestClassifier\n",
    "from sklearn import metrics\n",
    "import xgboost as xgb\n",
    "from sklearn.metrics import roc_auc_score\n",
    "\n",
    "import pickle\n",
    "from sklearn.externals import joblib\n",
    "pd.set_option('display.max_columns', 500)"
   ]
  },
  {
   "cell_type": "code",
   "execution_count": 64,
   "metadata": {},
   "outputs": [],
   "source": [
    "id_281 = [6391, 6399, 6406, 6418, 6422, 6458, 6477, 6486, 6504, 6510, 6528, 6529, 6541, 6564, 6589, 6592, 6596, 6599, 6601, 6604, 6619, 6678, 6712, 6729, 6756, 6763, 6769, 6773, 6783, 6789, 6812, 6825, 6828, 6833, 6844, 6863, 6865, 6874, 6903, 6921, 6947, 6953, 6969, 6983, 6990, 7004, 7005, 7011, 7032, 7039, 7044, 7076, 7080, 7091, 7103, 7114, 7120, 7133, 7143, 7157, 7169, 7193, 7196, 7204, 7218, 7230, 7244, 7285, 7289, 7296, 7318, 7325, 7340, 7364, 7376, 7383, 7396, 7400, 7463, 7468, 7482, 7504, 7517, 7525, 7538, 7543, 7546, 7569, 7574, 7580, 7597, 7598, 7636, 7647, 7649, 7723, 7757, 7761, 7767, 7775, 7784, 7800, 7811, 7818, 7824, 7825, 7833, 7861, 7914, 7937, 7965, 7985, 8016, 8020, 8049, 8053, 8056, 8058, 8061, 8070, 8077, 8090, 8099, 8144, 8161, 8163, 8164, 8179, 8196, 8208, 8232, 8246, 8258, 8288, 8289, 8297, 8306, 8322, 8326, 8344, 8376, 8399, 8402, 8404, 8410, 8412, 8465, 8472, 8476, 8492, 8557, 8589, 8606, 8622, 8627, 8658, 8660, 8662, 8673, 8678, 8715, 8722, 8724, 8751, 8777, 8790, 8810, 8811, 8821, 8829, 8835, 8841, 8852, 8878, 8884, 8895, 8905, 8908, 8910, 8955, 9006, 9011, 9013, 9041, 9057, 9074, 9092, 9130, 9156, 9173, 9182, 9189, 9225, 9244, 9246, 9251, 9256, 9258, 9259, 9264, 9276, 9284, 9306, 9311, 9314, 9323, 9329, 9365, 9372, 9390, 9396, 9401, 9420, 9430, 9449, 9453, 9460, 9474, 9483, 9489, 9500, 9514, 9556, 9558, 9586, 9599, 9602, 9612, 9618, 9665, 9669, 9678, 9709, 9721, 9738, 9777, 9791, 9797, 9802, 9807, 9832, 9842, 9867, 9868, 9881, 9892, 9905, 9932, 9940, 9952, 9953, 9955, 9984, 9990, 10010, 10019, 10033, 10035, 10045, 10047, 10050, 10052, 10054, 10071, 10086, 10091, 10097, 10121, 10127, 10141, 10159, 10200, 10202, 10233, 10244, 10262, 10264, 10266, 10277, 10289, 10298]"
   ]
  },
  {
   "cell_type": "code",
   "execution_count": 65,
   "metadata": {},
   "outputs": [],
   "source": [
    "demo_df = pandas.read_csv('data/demo.csv', index_col='ip_id')\n",
    "y_train = pandas.read_csv('data/y_train.csv', index_col='ip_id')"
   ]
  },
  {
   "cell_type": "code",
   "execution_count": 66,
   "metadata": {},
   "outputs": [],
   "source": [
    "df_y_test = pd.read_csv('data/y_test_index.csv',index_col='ip_id')"
   ]
  },
  {
   "cell_type": "code",
   "execution_count": 67,
   "metadata": {},
   "outputs": [
    {
     "data": {
      "text/plain": [
       "(3938, 9)"
      ]
     },
     "execution_count": 67,
     "metadata": {},
     "output_type": "execute_result"
    }
   ],
   "source": [
    "df_test = demo_df[demo_df.index.isin(df_y_test.index)]\n",
    "df_test.shape"
   ]
  },
  {
   "cell_type": "code",
   "execution_count": 68,
   "metadata": {},
   "outputs": [
    {
     "data": {
      "text/plain": [
       "(281, 9)"
      ]
     },
     "execution_count": 68,
     "metadata": {},
     "output_type": "execute_result"
    }
   ],
   "source": [
    "df_test = df_test[df_test.index.isin(id_281)]\n",
    "df_test.shape"
   ]
  },
  {
   "cell_type": "code",
   "execution_count": 69,
   "metadata": {},
   "outputs": [
    {
     "data": {
      "text/plain": [
       "(281, 9)"
      ]
     },
     "execution_count": 69,
     "metadata": {},
     "output_type": "execute_result"
    }
   ],
   "source": [
    "df_test = df_test[df_test.index.isin(pd.read_csv('data/cc_txn.csv')['ip_id'])==False]\n",
    "df_test.shape"
   ]
  },
  {
   "cell_type": "code",
   "execution_count": 70,
   "metadata": {},
   "outputs": [],
   "source": [
    "demo_df.drop(demo_df.select_dtypes('object').columns.tolist(),axis=1,inplace=True)"
   ]
  },
  {
   "cell_type": "code",
   "execution_count": 71,
   "metadata": {},
   "outputs": [],
   "source": [
    "demo_df['is_train'] = numpy.where(demo_df.index.isin(y_train.index),1,0)"
   ]
  },
  {
   "cell_type": "code",
   "execution_count": 72,
   "metadata": {},
   "outputs": [],
   "source": [
    "def feature_select(df_all, thres = 0.5):\n",
    "    res = 1\n",
    "    while res > thres:\n",
    "        columns = df_all.columns.tolist()\n",
    "\n",
    "        y = df_all['is_train'].values\n",
    "        X = df_all.drop(['is_train'],axis=1).values\n",
    "        X_train, X_val, y_train, y_test = train_test_split(X,y,test_size=0.2,stratify=y,random_state=0)\n",
    "        \n",
    "        \n",
    "        rfc = RandomForestClassifier(n_jobs=-1, max_depth=5, min_samples_leaf = 5,\n",
    "                                    n_estimators=100)\n",
    "        rfc.fit(X_train,y_train)\n",
    "        res_prob = rfc.predict_proba(X_val)[:, 1]\n",
    "\n",
    "        fpr, tpr, thresholds = metrics.roc_curve(y_test.ravel(), res_prob, pos_label=1)\n",
    "        res = metrics.auc(fpr, tpr)\n",
    "        \n",
    "        if res > thres:\n",
    "            df_all= df_all.drop([columns[rfc.feature_importances_.argmax()]],axis=1)\n",
    "    \n",
    "    print(res)\n",
    "    return df_all"
   ]
  },
  {
   "cell_type": "code",
   "execution_count": 81,
   "metadata": {},
   "outputs": [
    {
     "name": "stdout",
     "output_type": "stream",
     "text": [
      "0.5189661949685536\n"
     ]
    }
   ],
   "source": [
    "df_select = feature_select(demo_df,0.7)"
   ]
  },
  {
   "cell_type": "code",
   "execution_count": 82,
   "metadata": {},
   "outputs": [
    {
     "data": {
      "text/html": [
       "<div>\n",
       "<style scoped>\n",
       "    .dataframe tbody tr th:only-of-type {\n",
       "        vertical-align: middle;\n",
       "    }\n",
       "\n",
       "    .dataframe tbody tr th {\n",
       "        vertical-align: top;\n",
       "    }\n",
       "\n",
       "    .dataframe thead th {\n",
       "        text-align: right;\n",
       "    }\n",
       "</style>\n",
       "<table border=\"1\" class=\"dataframe\">\n",
       "  <thead>\n",
       "    <tr style=\"text-align: right;\">\n",
       "      <th></th>\n",
       "      <th>no_of_dpnd_chl</th>\n",
       "      <th>gnd_cd</th>\n",
       "      <th>is_train</th>\n",
       "    </tr>\n",
       "    <tr>\n",
       "      <th>ip_id</th>\n",
       "      <th></th>\n",
       "      <th></th>\n",
       "      <th></th>\n",
       "    </tr>\n",
       "  </thead>\n",
       "  <tbody>\n",
       "    <tr>\n",
       "      <th>1</th>\n",
       "      <td>0.0</td>\n",
       "      <td>2.0</td>\n",
       "      <td>1</td>\n",
       "    </tr>\n",
       "    <tr>\n",
       "      <th>2</th>\n",
       "      <td>1.0</td>\n",
       "      <td>2.0</td>\n",
       "      <td>1</td>\n",
       "    </tr>\n",
       "    <tr>\n",
       "      <th>3</th>\n",
       "      <td>0.0</td>\n",
       "      <td>2.0</td>\n",
       "      <td>1</td>\n",
       "    </tr>\n",
       "    <tr>\n",
       "      <th>4</th>\n",
       "      <td>0.0</td>\n",
       "      <td>2.0</td>\n",
       "      <td>1</td>\n",
       "    </tr>\n",
       "    <tr>\n",
       "      <th>5</th>\n",
       "      <td>1.0</td>\n",
       "      <td>2.0</td>\n",
       "      <td>1</td>\n",
       "    </tr>\n",
       "  </tbody>\n",
       "</table>\n",
       "</div>"
      ],
      "text/plain": [
       "       no_of_dpnd_chl  gnd_cd  is_train\n",
       "ip_id                                  \n",
       "1                 0.0     2.0         1\n",
       "2                 1.0     2.0         1\n",
       "3                 0.0     2.0         1\n",
       "4                 0.0     2.0         1\n",
       "5                 1.0     2.0         1"
      ]
     },
     "execution_count": 82,
     "metadata": {},
     "output_type": "execute_result"
    }
   ],
   "source": [
    "df_select.head()"
   ]
  },
  {
   "cell_type": "code",
   "execution_count": 36,
   "metadata": {},
   "outputs": [],
   "source": [
    "df_train_features = demo_df[demo_df.index.isin(y_train.index)][[col for col in df_select.drop(['is_train'],axis=1).columns]]\n",
    "df_train_label = y_train"
   ]
  },
  {
   "cell_type": "code",
   "execution_count": 39,
   "metadata": {},
   "outputs": [
    {
     "name": "stdout",
     "output_type": "stream",
     "text": [
      "[0. 0. 0. ... 1. 0. 0.]\n",
      "0.5679598124820779\n"
     ]
    },
    {
     "name": "stderr",
     "output_type": "stream",
     "text": [
      "/home/thanatlapthawan/anaconda3/lib/python3.6/site-packages/sklearn/preprocessing/label.py:95: DataConversionWarning: A column-vector y was passed when a 1d array was expected. Please change the shape of y to (n_samples, ), for example using ravel().\n",
      "  y = column_or_1d(y, warn=True)\n",
      "/home/thanatlapthawan/anaconda3/lib/python3.6/site-packages/sklearn/preprocessing/label.py:128: DataConversionWarning: A column-vector y was passed when a 1d array was expected. Please change the shape of y to (n_samples, ), for example using ravel().\n",
      "  y = column_or_1d(y, warn=True)\n",
      "/home/thanatlapthawan/anaconda3/lib/python3.6/site-packages/sklearn/preprocessing/label.py:151: DeprecationWarning: The truth value of an empty array is ambiguous. Returning False, but in future this will result in an error. Use `array.size > 0` to check that an array is not empty.\n",
      "  if diff:\n"
     ]
    }
   ],
   "source": [
    "import numpy as np\n",
    "from sklearn.linear_model import LogisticRegression\n",
    "from sklearn.naive_bayes import GaussianNB\n",
    "from sklearn.ensemble import RandomForestClassifier, VotingClassifier\n",
    "clf1 = LogisticRegression(solver='lbfgs', multi_class='multinomial',\n",
    "                          random_state=1)\n",
    "clf2 = RandomForestClassifier(n_estimators=50, random_state=1)\n",
    "clf3 = GaussianNB()\n",
    "# X_train = df_train_features[:5000]\n",
    "# y_train = df_train_label[:5000]\n",
    "eclf1 = VotingClassifier(estimators=[\n",
    "        ('lr', clf1), ('rf', clf2), ('gnb', clf3)], voting='soft')\n",
    "eclf1 = eclf1.fit(df_train_features, df_train_label)\n",
    "print(eclf1.predict(df_train_features))\n",
    "\n",
    "import numpy as np\n",
    "from sklearn.metrics import roc_auc_score\n",
    "y_true = df_train_label\n",
    "y_scores = eclf1.predict_proba(df_train_features)[:,1]\n",
    "print (roc_auc_score(y_true, y_scores))"
   ]
  },
  {
   "cell_type": "code",
   "execution_count": 41,
   "metadata": {},
   "outputs": [
    {
     "name": "stderr",
     "output_type": "stream",
     "text": [
      "Using TensorFlow backend.\n"
     ]
    }
   ],
   "source": [
    "from keras.models import Model\n",
    "from keras.layers import Input, Dense\n",
    "import keras"
   ]
  },
  {
   "cell_type": "code",
   "execution_count": 44,
   "metadata": {},
   "outputs": [
    {
     "name": "stdout",
     "output_type": "stream",
     "text": [
      "(6361, 2)\n",
      "(6361, 1)\n"
     ]
    }
   ],
   "source": [
    "X = df_train_features.values\n",
    "print(X.shape)\n",
    "Y = df_train_label.values\n",
    "print(Y.shape)"
   ]
  },
  {
   "cell_type": "code",
   "execution_count": 45,
   "metadata": {},
   "outputs": [
    {
     "name": "stdout",
     "output_type": "stream",
     "text": [
      "Epoch 1/10\n",
      "6361/6361 [==============================] - 1s 117us/step - loss: 0.2937 - acc: 0.9285\n",
      "Epoch 2/10\n",
      "6361/6361 [==============================] - 0s 69us/step - loss: 0.2361 - acc: 0.9362\n",
      "Epoch 3/10\n",
      "6361/6361 [==============================] - 0s 72us/step - loss: 0.2310 - acc: 0.9368\n",
      "Epoch 4/10\n",
      "6361/6361 [==============================] - 0s 75us/step - loss: 0.2273 - acc: 0.9377\n",
      "Epoch 5/10\n",
      "6361/6361 [==============================] - 0s 71us/step - loss: 0.2263 - acc: 0.9379\n",
      "Epoch 6/10\n",
      "6361/6361 [==============================] - 0s 75us/step - loss: 0.2254 - acc: 0.9382\n",
      "Epoch 7/10\n",
      "6361/6361 [==============================] - 0s 72us/step - loss: 0.2244 - acc: 0.9387\n",
      "Epoch 8/10\n",
      "6361/6361 [==============================] - 0s 75us/step - loss: 0.2242 - acc: 0.9382\n",
      "Epoch 9/10\n",
      "6361/6361 [==============================] - 0s 71us/step - loss: 0.2241 - acc: 0.9381\n",
      "Epoch 10/10\n",
      "6361/6361 [==============================] - 0s 66us/step - loss: 0.2232 - acc: 0.9392\n",
      "0.6313843946811977\n"
     ]
    }
   ],
   "source": [
    "inputs = Input(shape=(2,))\n",
    "x = Dense(64, activation='relu')(inputs)\n",
    "x = Dense(32, activation='relu')(x)\n",
    "x = Dense(16, activation='relu')(x)\n",
    "predictions = Dense(1, activation='sigmoid')(x)\n",
    "\n",
    "model = Model(inputs=inputs, outputs=predictions)\n",
    "model.compile(optimizer='rmsprop',\n",
    "              loss='binary_crossentropy',\n",
    "              metrics=['accuracy'])\n",
    "model.fit(X, Y, batch_size=32, epochs=10)\n",
    "y_true = df_train_label\n",
    "y_scores = model.predict(X)[:,0]\n",
    "print (roc_auc_score(y_true, y_scores))"
   ]
  },
  {
   "cell_type": "code",
   "execution_count": 60,
   "metadata": {},
   "outputs": [],
   "source": [
    "df_test = df_test[df_test.index.isin(df_y_test.index)][[col for col in df_select.drop(['is_train'],axis=1).columns]]\n",
    "result = model.predict(df_test)[:,0]\n",
    "df_test['prob1'] = result\n",
    "df_test[['prob1']].to_csv('result_281_yortz.csv')"
   ]
  },
  {
   "cell_type": "code",
   "execution_count": 47,
   "metadata": {},
   "outputs": [
    {
     "name": "stdout",
     "output_type": "stream",
     "text": [
      "Epoch 1/10\n",
      "6361/6361 [==============================] - 1s 119us/step - loss: 0.2667 - acc: 0.9349\n",
      "Epoch 2/10\n",
      "6361/6361 [==============================] - 0s 62us/step - loss: 0.2334 - acc: 0.9360\n",
      "Epoch 3/10\n",
      "6361/6361 [==============================] - 0s 74us/step - loss: 0.2291 - acc: 0.9370\n",
      "Epoch 4/10\n",
      "6361/6361 [==============================] - 0s 74us/step - loss: 0.2274 - acc: 0.9384\n",
      "Epoch 5/10\n",
      "6361/6361 [==============================] - 0s 74us/step - loss: 0.2250 - acc: 0.9384\n",
      "Epoch 6/10\n",
      "6361/6361 [==============================] - 0s 74us/step - loss: 0.2251 - acc: 0.9365\n",
      "Epoch 7/10\n",
      "6361/6361 [==============================] - 0s 74us/step - loss: 0.2242 - acc: 0.9379\n",
      "Epoch 8/10\n",
      "6361/6361 [==============================] - 0s 73us/step - loss: 0.2228 - acc: 0.9387\n",
      "Epoch 9/10\n",
      "6361/6361 [==============================] - 0s 68us/step - loss: 0.2244 - acc: 0.9381\n",
      "Epoch 10/10\n",
      "6361/6361 [==============================] - 1s 83us/step - loss: 0.2236 - acc: 0.9387\n",
      "0.6313843946811977\n"
     ]
    }
   ],
   "source": [
    "inputs = Input(shape=(2,))\n",
    "x = Dense(64, activation='relu')(inputs)\n",
    "x = Dense(32, activation='relu')(x)\n",
    "x = Dense(16, activation='relu')(x)\n",
    "predictions = Dense(1, activation='sigmoid')(x)\n",
    "\n",
    "model = Model(inputs=inputs, outputs=predictions)\n",
    "model.compile(optimizer='rmsprop',\n",
    "              loss='binary_crossentropy',\n",
    "              metrics=['accuracy'])\n",
    "model.fit(X, Y, batch_size=32, epochs=10)\n",
    "y_true = df_train_label\n",
    "y_scores = model.predict(X)[:,0]\n",
    "print (roc_auc_score(y_true, y_scores))"
   ]
  },
  {
   "cell_type": "code",
   "execution_count": 49,
   "metadata": {},
   "outputs": [
    {
     "name": "stdout",
     "output_type": "stream",
     "text": [
      "Epoch 1/10\n",
      "6361/6361 [==============================] - 1s 124us/step - loss: 0.3549 - acc: 0.9311\n",
      "Epoch 2/10\n",
      "6361/6361 [==============================] - 0s 67us/step - loss: 0.2421 - acc: 0.9349\n",
      "Epoch 3/10\n",
      "6361/6361 [==============================] - 0s 71us/step - loss: 0.2385 - acc: 0.9349\n",
      "Epoch 4/10\n",
      "6361/6361 [==============================] - 0s 67us/step - loss: 0.2364 - acc: 0.9349\n",
      "Epoch 5/10\n",
      "6361/6361 [==============================] - 0s 69us/step - loss: 0.2351 - acc: 0.9349\n",
      "Epoch 6/10\n",
      "6361/6361 [==============================] - 0s 72us/step - loss: 0.2339 - acc: 0.9349\n",
      "Epoch 7/10\n",
      "6361/6361 [==============================] - 0s 69us/step - loss: 0.2330 - acc: 0.9349\n",
      "Epoch 8/10\n",
      "6361/6361 [==============================] - 0s 69us/step - loss: 0.2321 - acc: 0.9349\n",
      "Epoch 9/10\n",
      "6361/6361 [==============================] - 0s 69us/step - loss: 0.2315 - acc: 0.9349\n",
      "Epoch 10/10\n",
      "6361/6361 [==============================] - 0s 68us/step - loss: 0.2309 - acc: 0.9349\n",
      "0.5783584302238209\n"
     ]
    }
   ],
   "source": [
    "inputs = Input(shape=(2,))\n",
    "x = Dense(64, activation='relu')(inputs)\n",
    "x = Dense(32, activation='relu')(x)\n",
    "x = Dense(16, activation='relu')(x)\n",
    "predictions = Dense(1, activation='sigmoid')(x)\n",
    "\n",
    "model = Model(inputs=inputs, outputs=predictions)\n",
    "sgd = keras.optimizers.SGD(lr=0.01, clipnorm=1.)\n",
    "model.compile(optimizer=sgd,\n",
    "              loss='binary_crossentropy',\n",
    "              metrics=['accuracy'])\n",
    "model.fit(X, Y, batch_size=32, epochs=10)\n",
    "y_true = df_train_label\n",
    "y_scores = model.predict(X)[:,0]\n",
    "print (roc_auc_score(y_true, y_scores))"
   ]
  },
  {
   "cell_type": "code",
   "execution_count": 51,
   "metadata": {},
   "outputs": [
    {
     "name": "stdout",
     "output_type": "stream",
     "text": [
      "Epoch 1/10\n",
      "6361/6361 [==============================] - 1s 178us/step - loss: 0.2446 - acc: 0.9368\n",
      "Epoch 2/10\n",
      "6361/6361 [==============================] - 1s 89us/step - loss: 0.2336 - acc: 0.9362\n",
      "Epoch 3/10\n",
      "6361/6361 [==============================] - 1s 84us/step - loss: 0.2299 - acc: 0.9374\n",
      "Epoch 4/10\n",
      "6361/6361 [==============================] - 1s 85us/step - loss: 0.2266 - acc: 0.9370\n",
      "Epoch 5/10\n",
      "6361/6361 [==============================] - 1s 84us/step - loss: 0.2263 - acc: 0.9390\n",
      "Epoch 6/10\n",
      "6361/6361 [==============================] - 1s 82us/step - loss: 0.2255 - acc: 0.9385\n",
      "Epoch 7/10\n",
      "6361/6361 [==============================] - 1s 86us/step - loss: 0.2252 - acc: 0.9381\n",
      "Epoch 8/10\n",
      "6361/6361 [==============================] - 1s 84us/step - loss: 0.2241 - acc: 0.9384\n",
      "Epoch 9/10\n",
      "6361/6361 [==============================] - 1s 88us/step - loss: 0.2243 - acc: 0.9385\n",
      "Epoch 10/10\n",
      "6361/6361 [==============================] - 1s 88us/step - loss: 0.2237 - acc: 0.9385\n",
      "0.60845540600587\n"
     ]
    }
   ],
   "source": [
    "inputs = Input(shape=(2,))\n",
    "x = Dense(64, activation='relu')(inputs)\n",
    "x = Dense(32, activation='relu')(x)\n",
    "x = Dense(16, activation='relu')(x)\n",
    "predictions = Dense(1, activation='sigmoid')(x)\n",
    "\n",
    "model = Model(inputs=inputs, outputs=predictions)\n",
    "adam = keras.optimizers.Adam(lr=0.02, beta_1=0.9, beta_2=0.999, epsilon=None, decay=0.0, amsgrad=False)\n",
    "model.compile(optimizer=adam,\n",
    "              loss='binary_crossentropy',\n",
    "              metrics=['accuracy'])\n",
    "model.fit(X, Y, batch_size=32, epochs=10)\n",
    "y_true = df_train_label\n",
    "y_scores = model.predict(X)[:,0]\n",
    "print (roc_auc_score(y_true, y_scores))"
   ]
  },
  {
   "cell_type": "code",
   "execution_count": null,
   "metadata": {},
   "outputs": [],
   "source": []
  },
  {
   "cell_type": "code",
   "execution_count": null,
   "metadata": {},
   "outputs": [],
   "source": []
  }
 ],
 "metadata": {
  "kernelspec": {
   "display_name": "Python 3",
   "language": "python",
   "name": "python3"
  },
  "language_info": {
   "codemirror_mode": {
    "name": "ipython",
    "version": 3
   },
   "file_extension": ".py",
   "mimetype": "text/x-python",
   "name": "python",
   "nbconvert_exporter": "python",
   "pygments_lexer": "ipython3",
   "version": "3.6.6"
  }
 },
 "nbformat": 4,
 "nbformat_minor": 2
}
