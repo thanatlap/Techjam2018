{
 "cells": [
  {
   "cell_type": "markdown",
   "metadata": {},
   "source": [
    "# Covariant Shift (Credit Model 2530)"
   ]
  },
  {
   "cell_type": "code",
   "execution_count": 8,
   "metadata": {},
   "outputs": [],
   "source": [
    "import numpy as np\n",
    "import pandas as pd\n",
    "import matplotlib.pyplot as plt\n",
    "%matplotlib inline\n",
    "\n",
    "import sklearn\n",
    "from sklearn.model_selection import train_test_split\n",
    "\n",
    "from sklearn.ensemble import RandomForestClassifier\n",
    "from sklearn import metrics\n",
    "import xgboost as xgb\n",
    "from sklearn.metrics import roc_auc_score\n",
    "\n",
    "import pickle\n",
    "from sklearn.externals import joblib\n",
    "pd.set_option('display.max_columns', 500)"
   ]
  },
  {
   "cell_type": "code",
   "execution_count": 9,
   "metadata": {},
   "outputs": [],
   "source": [
    "# Read all data\n",
    "df_sa = pd.read_csv('prep_data/sa_summary_sorn_train.csv',index_col='ip_id')\n",
    "df_sa_test = pd.read_csv('prep_data/sa_summary_sorn_test.csv',index_col='ip_id')\n",
    "df_demo = pd.read_csv('data/demo.csv',index_col='ip_id')\n",
    "df_y_train = pd.read_csv('data/y_train.csv',index_col='ip_id')\n",
    "df_y_test = pd.read_csv('data/y_test_index.csv',index_col='ip_id')"
   ]
  },
  {
   "cell_type": "markdown",
   "metadata": {},
   "source": [
    "- Fix the column in df_sa_test"
   ]
  },
  {
   "cell_type": "code",
   "execution_count": null,
   "metadata": {},
   "outputs": [],
   "source": []
  },
  {
   "cell_type": "markdown",
   "metadata": {},
   "source": [
    "### Merge data"
   ]
  },
  {
   "cell_type": "markdown",
   "metadata": {},
   "source": [
    "- For Feature Selection"
   ]
  },
  {
   "cell_type": "code",
   "execution_count": 10,
   "metadata": {},
   "outputs": [],
   "source": [
    "#df_sa_all = pd.concat([df_sa.drop(['label'],axis=1),df_sa_test],axis=0)\n",
    "df = df_demo #.join(df_sa_all,how='inner')"
   ]
  },
  {
   "cell_type": "code",
   "execution_count": 11,
   "metadata": {},
   "outputs": [
    {
     "data": {
      "text/plain": [
       "(10299, 9)"
      ]
     },
     "execution_count": 11,
     "metadata": {},
     "output_type": "execute_result"
    }
   ],
   "source": [
    "df.shape"
   ]
  },
  {
   "cell_type": "markdown",
   "metadata": {},
   "source": [
    "- For test model"
   ]
  },
  {
   "cell_type": "code",
   "execution_count": 12,
   "metadata": {},
   "outputs": [
    {
     "data": {
      "text/plain": [
       "(3602, 45)"
      ]
     },
     "execution_count": 12,
     "metadata": {},
     "output_type": "execute_result"
    }
   ],
   "source": [
    "df_test = df_demo[df_demo.index.isin(df_y_test.index)].join(df_sa_test,how='inner')\n",
    "df_test.shape"
   ]
  },
  {
   "cell_type": "markdown",
   "metadata": {},
   "source": [
    "- Scope the data of df_test to 2530 (have no cc, have sa)"
   ]
  },
  {
   "cell_type": "code",
   "execution_count": 13,
   "metadata": {},
   "outputs": [
    {
     "data": {
      "text/plain": [
       "(2530, 45)"
      ]
     },
     "execution_count": 13,
     "metadata": {},
     "output_type": "execute_result"
    }
   ],
   "source": [
    "df_test = df_test[df_test.index.isin(pd.read_csv('data/cc_txn.csv')['ip_id'])==False]\n",
    "df_test.shape"
   ]
  },
  {
   "cell_type": "markdown",
   "metadata": {},
   "source": [
    "# Manage the categorical data"
   ]
  },
  {
   "cell_type": "markdown",
   "metadata": {},
   "source": [
    "### One-hot  Option 1"
   ]
  },
  {
   "cell_type": "markdown",
   "metadata": {},
   "source": [
    "- For Feature Selection"
   ]
  },
  {
   "cell_type": "code",
   "execution_count": 14,
   "metadata": {},
   "outputs": [],
   "source": [
    "# df.drop(['act_strt_dt'],axis=1,inplace=True)\n",
    "# dummy = pd.get_dummies(df[df.select_dtypes('object').columns.tolist()])\n",
    "# df = pd.concat([dummy,df[df.select_dtypes(['int64','float64']).columns.tolist()]],axis=1)"
   ]
  },
  {
   "cell_type": "markdown",
   "metadata": {},
   "source": [
    "- For test model"
   ]
  },
  {
   "cell_type": "code",
   "execution_count": 15,
   "metadata": {},
   "outputs": [],
   "source": [
    "# df_test = pd.get_dummies(df_test[df_test.select_dtypes('object').columns.tolist()])\n",
    "# df_test = pd.concat([dummy,df_test[df_test.select_dtypes(['int64','float64']).columns.tolist()]],axis=1)\n",
    "# df_test.shape"
   ]
  },
  {
   "cell_type": "markdown",
   "metadata": {},
   "source": [
    "### Drop Option 2"
   ]
  },
  {
   "cell_type": "markdown",
   "metadata": {},
   "source": [
    "- For Feature Selection"
   ]
  },
  {
   "cell_type": "code",
   "execution_count": 16,
   "metadata": {},
   "outputs": [],
   "source": [
    "df.drop(df.select_dtypes('object').columns.tolist(),axis=1,inplace=True)"
   ]
  },
  {
   "cell_type": "markdown",
   "metadata": {},
   "source": [
    "- For Test model"
   ]
  },
  {
   "cell_type": "code",
   "execution_count": 17,
   "metadata": {},
   "outputs": [],
   "source": [
    "df_test.drop(df_test.select_dtypes('object').columns.tolist(),axis=1,inplace=True)"
   ]
  },
  {
   "cell_type": "markdown",
   "metadata": {},
   "source": [
    "# Create Label \"is_train\" 0 or 1"
   ]
  },
  {
   "cell_type": "code",
   "execution_count": 18,
   "metadata": {},
   "outputs": [],
   "source": [
    "df['is_train'] = np.where(df.index.isin(df_y_train.index),1,0)"
   ]
  },
  {
   "cell_type": "markdown",
   "metadata": {},
   "source": [
    "# Feature Selection\n",
    "- Find the feature which have the same distribution"
   ]
  },
  {
   "cell_type": "code",
   "execution_count": 19,
   "metadata": {},
   "outputs": [],
   "source": [
    "def feature_select(df_all, thres = 0.5):\n",
    "    res = 1\n",
    "    while res > thres:\n",
    "        columns = df_all.columns.tolist()\n",
    "\n",
    "        y = df_all['is_train'].values\n",
    "        X = df_all.drop(['is_train'],axis=1).values\n",
    "        X_train, X_val, y_train, y_test = train_test_split(X,y,test_size=0.2,stratify=y,random_state=0)\n",
    "        \n",
    "        \n",
    "        rfc = RandomForestClassifier(n_jobs=-1, max_depth=5, min_samples_leaf = 5,\n",
    "                                    n_estimators=100)\n",
    "        rfc.fit(X_train,y_train)\n",
    "        res_prob = rfc.predict_proba(X_val)[:, 1]\n",
    "\n",
    "        fpr, tpr, thresholds = metrics.roc_curve(y_test.ravel(), res_prob, pos_label=1)\n",
    "        res = metrics.auc(fpr, tpr)\n",
    "        \n",
    "        if res > thres:\n",
    "            df_all= df_all.drop([columns[rfc.feature_importances_.argmax()]],axis=1)\n",
    "    \n",
    "    print(res)\n",
    "    return df_all"
   ]
  },
  {
   "cell_type": "code",
   "execution_count": 20,
   "metadata": {},
   "outputs": [
    {
     "name": "stdout",
     "output_type": "stream",
     "text": [
      "0.5189661949685536\n"
     ]
    }
   ],
   "source": [
    "df_select = feature_select(df,0.7)"
   ]
  },
  {
   "cell_type": "code",
   "execution_count": 21,
   "metadata": {},
   "outputs": [
    {
     "data": {
      "text/html": [
       "<div>\n",
       "<style scoped>\n",
       "    .dataframe tbody tr th:only-of-type {\n",
       "        vertical-align: middle;\n",
       "    }\n",
       "\n",
       "    .dataframe tbody tr th {\n",
       "        vertical-align: top;\n",
       "    }\n",
       "\n",
       "    .dataframe thead th {\n",
       "        text-align: right;\n",
       "    }\n",
       "</style>\n",
       "<table border=\"1\" class=\"dataframe\">\n",
       "  <thead>\n",
       "    <tr style=\"text-align: right;\">\n",
       "      <th></th>\n",
       "      <th>no_of_dpnd_chl</th>\n",
       "      <th>gnd_cd</th>\n",
       "      <th>is_train</th>\n",
       "    </tr>\n",
       "    <tr>\n",
       "      <th>ip_id</th>\n",
       "      <th></th>\n",
       "      <th></th>\n",
       "      <th></th>\n",
       "    </tr>\n",
       "  </thead>\n",
       "  <tbody>\n",
       "    <tr>\n",
       "      <th>1</th>\n",
       "      <td>0.0</td>\n",
       "      <td>2.0</td>\n",
       "      <td>1</td>\n",
       "    </tr>\n",
       "    <tr>\n",
       "      <th>2</th>\n",
       "      <td>1.0</td>\n",
       "      <td>2.0</td>\n",
       "      <td>1</td>\n",
       "    </tr>\n",
       "    <tr>\n",
       "      <th>3</th>\n",
       "      <td>0.0</td>\n",
       "      <td>2.0</td>\n",
       "      <td>1</td>\n",
       "    </tr>\n",
       "    <tr>\n",
       "      <th>4</th>\n",
       "      <td>0.0</td>\n",
       "      <td>2.0</td>\n",
       "      <td>1</td>\n",
       "    </tr>\n",
       "    <tr>\n",
       "      <th>5</th>\n",
       "      <td>1.0</td>\n",
       "      <td>2.0</td>\n",
       "      <td>1</td>\n",
       "    </tr>\n",
       "  </tbody>\n",
       "</table>\n",
       "</div>"
      ],
      "text/plain": [
       "       no_of_dpnd_chl  gnd_cd  is_train\n",
       "ip_id                                  \n",
       "1                 0.0     2.0         1\n",
       "2                 1.0     2.0         1\n",
       "3                 0.0     2.0         1\n",
       "4                 0.0     2.0         1\n",
       "5                 1.0     2.0         1"
      ]
     },
     "execution_count": 21,
     "metadata": {},
     "output_type": "execute_result"
    }
   ],
   "source": [
    "df_select.head()"
   ]
  },
  {
   "cell_type": "markdown",
   "metadata": {},
   "source": [
    "# Use the selected feature to build a credit model with randomForest"
   ]
  },
  {
   "cell_type": "code",
   "execution_count": 22,
   "metadata": {},
   "outputs": [],
   "source": [
    "df_train_features = df[df.index.isin(df_y_train.index)][[col for col in df_select.drop(['is_train'],axis=1).columns]]\n",
    "df_train_label = df_y_train"
   ]
  },
  {
   "cell_type": "code",
   "execution_count": 23,
   "metadata": {},
   "outputs": [
    {
     "name": "stdout",
     "output_type": "stream",
     "text": [
      "[0. 0. 0. ... 1. 0. 0.]\n",
      "0.5679598124820779\n"
     ]
    },
    {
     "name": "stderr",
     "output_type": "stream",
     "text": [
      "/home/thanatlapthawan/anaconda3/lib/python3.6/site-packages/sklearn/preprocessing/label.py:95: DataConversionWarning: A column-vector y was passed when a 1d array was expected. Please change the shape of y to (n_samples, ), for example using ravel().\n",
      "  y = column_or_1d(y, warn=True)\n",
      "/home/thanatlapthawan/anaconda3/lib/python3.6/site-packages/sklearn/preprocessing/label.py:128: DataConversionWarning: A column-vector y was passed when a 1d array was expected. Please change the shape of y to (n_samples, ), for example using ravel().\n",
      "  y = column_or_1d(y, warn=True)\n",
      "/home/thanatlapthawan/anaconda3/lib/python3.6/site-packages/sklearn/preprocessing/label.py:151: DeprecationWarning: The truth value of an empty array is ambiguous. Returning False, but in future this will result in an error. Use `array.size > 0` to check that an array is not empty.\n",
      "  if diff:\n"
     ]
    }
   ],
   "source": [
    "import numpy as np\n",
    "from sklearn.linear_model import LogisticRegression\n",
    "from sklearn.naive_bayes import GaussianNB\n",
    "from sklearn.ensemble import RandomForestClassifier, VotingClassifier\n",
    "clf1 = LogisticRegression(solver='lbfgs', multi_class='multinomial',\n",
    "                          random_state=1)\n",
    "clf2 = RandomForestClassifier(n_estimators=50, random_state=1)\n",
    "clf3 = GaussianNB()\n",
    "# X_train = df_train_features[:5000]\n",
    "# y_train = df_train_label[:5000]\n",
    "eclf1 = VotingClassifier(estimators=[\n",
    "        ('lr', clf1), ('rf', clf2), ('gnb', clf3)], voting='soft')\n",
    "eclf1 = eclf1.fit(df_train_features, df_train_label)\n",
    "print(eclf1.predict(df_train_features))\n",
    "\n",
    "import numpy as np\n",
    "from sklearn.metrics import roc_auc_score\n",
    "y_true = df_train_label\n",
    "y_scores = eclf1.predict_proba(df_train_features)[:,1]\n",
    "print (roc_auc_score(y_true, y_scores))"
   ]
  },
  {
   "cell_type": "markdown",
   "metadata": {},
   "source": [
    "# Use the trained model to predict the test data"
   ]
  },
  {
   "cell_type": "code",
   "execution_count": 24,
   "metadata": {},
   "outputs": [],
   "source": [
    "df_test = df_test[df_test.index.isin(df_y_test.index)][[col for col in df_select.drop(['is_train'],axis=1).columns]]"
   ]
  },
  {
   "cell_type": "code",
   "execution_count": 25,
   "metadata": {},
   "outputs": [],
   "source": [
    "result = eclf1.predict_proba(df_test)[:,1]"
   ]
  },
  {
   "cell_type": "code",
   "execution_count": 26,
   "metadata": {},
   "outputs": [],
   "source": [
    "df_test['prob1'] = result"
   ]
  },
  {
   "cell_type": "code",
   "execution_count": 35,
   "metadata": {},
   "outputs": [],
   "source": [
    "df_test[['prob1']].to_csv('result_2530.csv')"
   ]
  },
  {
   "cell_type": "markdown",
   "metadata": {},
   "source": [
    "# KERAS"
   ]
  },
  {
   "cell_type": "code",
   "execution_count": 27,
   "metadata": {},
   "outputs": [],
   "source": [
    "from keras.models import Model\n",
    "from keras.layers import Input, Dense\n",
    "import keras"
   ]
  },
  {
   "cell_type": "code",
   "execution_count": 29,
   "metadata": {},
   "outputs": [
    {
     "name": "stdout",
     "output_type": "stream",
     "text": [
      "(6361, 2)\n",
      "(6361, 1)\n"
     ]
    }
   ],
   "source": [
    "X = df_train_features.values\n",
    "print(X.shape)\n",
    "Y = df_train_label.values\n",
    "print(Y.shape)"
   ]
  },
  {
   "cell_type": "code",
   "execution_count": 31,
   "metadata": {},
   "outputs": [
    {
     "name": "stdout",
     "output_type": "stream",
     "text": [
      "Epoch 1/10\n",
      "6361/6361 [==============================] - 1s 113us/step - loss: 0.2628 - acc: 0.9349\n",
      "Epoch 2/10\n",
      "6361/6361 [==============================] - 0s 77us/step - loss: 0.2341 - acc: 0.9371\n",
      "Epoch 3/10\n",
      "6361/6361 [==============================] - 0s 65us/step - loss: 0.2299 - acc: 0.9377\n",
      "Epoch 4/10\n",
      "6361/6361 [==============================] - 0s 65us/step - loss: 0.2275 - acc: 0.9376\n",
      "Epoch 5/10\n",
      "6361/6361 [==============================] - 0s 70us/step - loss: 0.2264 - acc: 0.9382\n",
      "Epoch 6/10\n",
      "6361/6361 [==============================] - 0s 75us/step - loss: 0.2246 - acc: 0.9376\n",
      "Epoch 7/10\n",
      "6361/6361 [==============================] - 0s 69us/step - loss: 0.2245 - acc: 0.9388\n",
      "Epoch 8/10\n",
      "6361/6361 [==============================] - 0s 75us/step - loss: 0.2242 - acc: 0.9379\n",
      "Epoch 9/10\n",
      "6361/6361 [==============================] - 0s 73us/step - loss: 0.2230 - acc: 0.9381\n",
      "Epoch 10/10\n",
      "6361/6361 [==============================] - 0s 75us/step - loss: 0.2241 - acc: 0.9381\n",
      "0.6313843946811977\n"
     ]
    }
   ],
   "source": [
    "inputs = Input(shape=(2,))\n",
    "x = Dense(64, activation='relu')(inputs)\n",
    "x = Dense(32, activation='relu')(x)\n",
    "x = Dense(16, activation='relu')(x)\n",
    "predictions = Dense(1, activation='sigmoid')(x)\n",
    "\n",
    "model = Model(inputs=inputs, outputs=predictions)\n",
    "model.compile(optimizer='rmsprop',\n",
    "              loss='binary_crossentropy',\n",
    "              metrics=['accuracy'])\n",
    "model.fit(X, Y, batch_size=32, epochs=10)\n",
    "y_true = df_train_label\n",
    "y_scores = model.predict(X)[:,0]\n",
    "print (roc_auc_score(y_true, y_scores))"
   ]
  },
  {
   "cell_type": "code",
   "execution_count": 88,
   "metadata": {},
   "outputs": [
    {
     "name": "stdout",
     "output_type": "stream",
     "text": [
      "Epoch 1/10\n",
      "6361/6361 [==============================] - 1s 160us/step - loss: 0.2854 - acc: 0.9263\n",
      "Epoch 2/10\n",
      "6361/6361 [==============================] - 0s 73us/step - loss: 0.2341 - acc: 0.9370\n",
      "Epoch 3/10\n",
      "6361/6361 [==============================] - 0s 71us/step - loss: 0.2296 - acc: 0.9374\n",
      "Epoch 4/10\n",
      "6361/6361 [==============================] - 0s 72us/step - loss: 0.2263 - acc: 0.9377\n",
      "Epoch 5/10\n",
      "6361/6361 [==============================] - 0s 72us/step - loss: 0.2256 - acc: 0.9377\n",
      "Epoch 6/10\n",
      "6361/6361 [==============================] - 0s 70us/step - loss: 0.2247 - acc: 0.9379\n",
      "Epoch 7/10\n",
      "6361/6361 [==============================] - 0s 71us/step - loss: 0.2243 - acc: 0.9381\n",
      "Epoch 8/10\n",
      "6361/6361 [==============================] - 0s 70us/step - loss: 0.2244 - acc: 0.9381\n",
      "Epoch 9/10\n",
      "6361/6361 [==============================] - 0s 76us/step - loss: 0.2239 - acc: 0.9387\n",
      "Epoch 10/10\n",
      "6361/6361 [==============================] - 1s 84us/step - loss: 0.2238 - acc: 0.9387\n",
      "0.6334410074823583\n"
     ]
    }
   ],
   "source": [
    "inputs = Input(shape=(3,))\n",
    "x = Dense(64, activation='relu')(inputs)\n",
    "x = Dense(32, activation='relu')(x)\n",
    "x = Dense(16, activation='relu')(x)\n",
    "predictions = Dense(1, activation='sigmoid')(x)\n",
    "\n",
    "model = Model(inputs=inputs, outputs=predictions)\n",
    "model.compile(optimizer='rmsprop',\n",
    "              loss='binary_crossentropy',\n",
    "              metrics=['accuracy'])\n",
    "model.fit(X, Y, batch_size=32, epochs=10)\n",
    "y_true = df_train_label\n",
    "y_scores = model.predict(X)[:,0]\n",
    "print (roc_auc_score(y_true, y_scores))"
   ]
  },
  {
   "cell_type": "code",
   "execution_count": 32,
   "metadata": {
    "scrolled": false
   },
   "outputs": [
    {
     "name": "stdout",
     "output_type": "stream",
     "text": [
      "Epoch 1/10\n",
      "6361/6361 [==============================] - 1s 120us/step - loss: 0.3823 - acc: 0.9349\n",
      "Epoch 2/10\n",
      "6361/6361 [==============================] - 0s 75us/step - loss: 0.2508 - acc: 0.9349\n",
      "Epoch 3/10\n",
      "6361/6361 [==============================] - 0s 72us/step - loss: 0.2425 - acc: 0.9349\n",
      "Epoch 4/10\n",
      "6361/6361 [==============================] - 0s 70us/step - loss: 0.2389 - acc: 0.9349\n",
      "Epoch 5/10\n",
      "6361/6361 [==============================] - 0s 70us/step - loss: 0.2366 - acc: 0.9349\n",
      "Epoch 6/10\n",
      "6361/6361 [==============================] - 0s 70us/step - loss: 0.2352 - acc: 0.9349\n",
      "Epoch 7/10\n",
      "6361/6361 [==============================] - 0s 69us/step - loss: 0.2340 - acc: 0.9349\n",
      "Epoch 8/10\n",
      "6361/6361 [==============================] - 0s 70us/step - loss: 0.2332 - acc: 0.9349\n",
      "Epoch 9/10\n",
      "6361/6361 [==============================] - 0s 72us/step - loss: 0.2324 - acc: 0.9349\n",
      "Epoch 10/10\n",
      "6361/6361 [==============================] - 0s 71us/step - loss: 0.2316 - acc: 0.9349\n",
      "0.5818790621504448\n"
     ]
    }
   ],
   "source": [
    "inputs = Input(shape=(2,))\n",
    "x = Dense(64, activation='relu')(inputs)\n",
    "x = Dense(32, activation='relu')(x)\n",
    "x = Dense(16, activation='relu')(x)\n",
    "predictions = Dense(1, activation='sigmoid')(x)\n",
    "\n",
    "model = Model(inputs=inputs, outputs=predictions)\n",
    "sgd = keras.optimizers.SGD(lr=0.01, clipnorm=1.)\n",
    "model.compile(optimizer=sgd,\n",
    "              loss='binary_crossentropy',\n",
    "              metrics=['accuracy'])\n",
    "model.fit(X, Y, batch_size=32, epochs=10)\n",
    "y_true = df_train_label\n",
    "y_scores = model.predict(X)[:,0]\n",
    "print (roc_auc_score(y_true, y_scores))"
   ]
  },
  {
   "cell_type": "code",
   "execution_count": null,
   "metadata": {},
   "outputs": [],
   "source": [
    "df_test = df_test[df_test.index.isin(df_y_test.index)][[col for col in df_select.drop(['is_train'],axis=1).columns]]\n",
    "result = model.predict(df_test)[:,0]\n",
    "result = model.predict(df_test)[:,0]\n",
    "df_test['prob1'] = result\n",
    "df_test[['prob1']].to_csv('result_2530_yortz2.csv')"
   ]
  },
  {
   "cell_type": "code",
   "execution_count": 107,
   "metadata": {},
   "outputs": [
    {
     "name": "stdout",
     "output_type": "stream",
     "text": [
      "Epoch 1/10\n",
      "6361/6361 [==============================] - 1s 229us/step - loss: 0.2488 - acc: 0.9357\n",
      "Epoch 2/10\n",
      "6361/6361 [==============================] - 1s 85us/step - loss: 0.2354 - acc: 0.9360\n",
      "Epoch 3/10\n",
      "6361/6361 [==============================] - 1s 94us/step - loss: 0.2316 - acc: 0.9349\n",
      "Epoch 4/10\n",
      "6361/6361 [==============================] - 1s 94us/step - loss: 0.2297 - acc: 0.9377\n",
      "Epoch 5/10\n",
      "6361/6361 [==============================] - 1s 97us/step - loss: 0.2278 - acc: 0.9382\n",
      "Epoch 6/10\n",
      "6361/6361 [==============================] - 1s 91us/step - loss: 0.2267 - acc: 0.9381\n",
      "Epoch 7/10\n",
      "6361/6361 [==============================] - 1s 99us/step - loss: 0.2258 - acc: 0.9377\n",
      "Epoch 8/10\n",
      "6361/6361 [==============================] - 1s 99us/step - loss: 0.2251 - acc: 0.9382\n",
      "Epoch 9/10\n",
      "6361/6361 [==============================] - 1s 103us/step - loss: 0.2246 - acc: 0.9388\n",
      "Epoch 10/10\n",
      "6361/6361 [==============================] - 1s 103us/step - loss: 0.2249 - acc: 0.9395\n",
      "0.6337425844557684\n"
     ]
    }
   ],
   "source": [
    "inputs = Input(shape=(3,))\n",
    "x = Dense(64, activation='relu')(inputs)\n",
    "x = Dense(32, activation='relu')(x)\n",
    "x = Dense(16, activation='relu')(x)\n",
    "predictions = Dense(1, activation='sigmoid')(x)\n",
    "\n",
    "model = Model(inputs=inputs, outputs=predictions)\n",
    "adam = keras.optimizers.Adam(lr=0.02, beta_1=0.9, beta_2=0.999, epsilon=None, decay=0.0, amsgrad=False)\n",
    "model.compile(optimizer=adam,\n",
    "              loss='binary_crossentropy',\n",
    "              metrics=['accuracy'])\n",
    "model.fit(X, Y, batch_size=32, epochs=10)\n",
    "y_true = df_train_label\n",
    "y_scores = model.predict(X)[:,0]\n",
    "print (roc_auc_score(y_true, y_scores))"
   ]
  },
  {
   "cell_type": "code",
   "execution_count": 108,
   "metadata": {},
   "outputs": [],
   "source": [
    "df_test = df_test[df_test.index.isin(df_y_test.index)][[col for col in df_select.drop(['is_train'],axis=1).columns]]"
   ]
  },
  {
   "cell_type": "code",
   "execution_count": null,
   "metadata": {},
   "outputs": [],
   "source": []
  },
  {
   "cell_type": "code",
   "execution_count": 109,
   "metadata": {},
   "outputs": [],
   "source": [
    "result = model.predict(df_test)[:,0]"
   ]
  },
  {
   "cell_type": "code",
   "execution_count": 110,
   "metadata": {},
   "outputs": [],
   "source": [
    "df_test['prob1'] = result"
   ]
  },
  {
   "cell_type": "code",
   "execution_count": 112,
   "metadata": {},
   "outputs": [],
   "source": [
    "df_test[['prob1']].to_csv('result_2530_yortz.csv')"
   ]
  },
  {
   "cell_type": "code",
   "execution_count": 103,
   "metadata": {},
   "outputs": [],
   "source": [
    "all_df = df_train_features\n",
    "all_df['label'] = df_train_label['label']"
   ]
  },
  {
   "cell_type": "code",
   "execution_count": 106,
   "metadata": {},
   "outputs": [
    {
     "name": "stderr",
     "output_type": "stream",
     "text": [
      "/home/thanatlapthawan/anaconda3/lib/python3.6/site-packages/ipykernel_launcher.py:1: FutureWarning: pandas.scatter_matrix is deprecated, use pandas.plotting.scatter_matrix instead\n",
      "  \"\"\"Entry point for launching an IPython kernel.\n"
     ]
    },
    {
     "data": {
      "text/plain": [
       "array([[<matplotlib.axes._subplots.AxesSubplot object at 0x7ff6648c22b0>,\n",
       "        <matplotlib.axes._subplots.AxesSubplot object at 0x7ff664256eb8>,\n",
       "        <matplotlib.axes._subplots.AxesSubplot object at 0x7ff664206518>],\n",
       "       [<matplotlib.axes._subplots.AxesSubplot object at 0x7ff66422eba8>,\n",
       "        <matplotlib.axes._subplots.AxesSubplot object at 0x7ff6641df278>,\n",
       "        <matplotlib.axes._subplots.AxesSubplot object at 0x7ff6641df2b0>],\n",
       "       [<matplotlib.axes._subplots.AxesSubplot object at 0x7ff6641aff98>,\n",
       "        <matplotlib.axes._subplots.AxesSubplot object at 0x7ff664162668>,\n",
       "        <matplotlib.axes._subplots.AxesSubplot object at 0x7ff664108cf8>]],\n",
       "      dtype=object)"
      ]
     },
     "execution_count": 106,
     "metadata": {},
     "output_type": "execute_result"
    },
    {
     "data": {
      "image/png": "[encoded data removed]",
      "text/plain": [
       "<Figure size 1080x1080 with 9 Axes>"
      ]
     },
     "metadata": {},
     "output_type": "display_data"
    }
   ],
   "source": [
    "pd.scatter_matrix(all_df.drop(['label'], axis = 1), c=all_df['label'], figsize = (15,15))"
   ]
  },
  {
   "cell_type": "code",
   "execution_count": 33,
   "metadata": {},
   "outputs": [
    {
     "ename": "ValueError",
     "evalue": "Error when checking input: expected input_4 to have shape (3,) but got array with shape (2,)",
     "output_type": "error",
     "traceback": [
      "\u001b[0;31m---------------------------------------------------------------------------\u001b[0m",
      "\u001b[0;31mValueError\u001b[0m                                Traceback (most recent call last)",
      "\u001b[0;32m<ipython-input-33-d98aca24a454>\u001b[0m in \u001b[0;36m<module>\u001b[0;34m()\u001b[0m\n\u001b[1;32m     10\u001b[0m               \u001b[0mloss\u001b[0m\u001b[0;34m=\u001b[0m\u001b[0;34m'binary_crossentropy'\u001b[0m\u001b[0;34m,\u001b[0m\u001b[0;34m\u001b[0m\u001b[0m\n\u001b[1;32m     11\u001b[0m               metrics=['accuracy'])\n\u001b[0;32m---> 12\u001b[0;31m \u001b[0mmodel\u001b[0m\u001b[0;34m.\u001b[0m\u001b[0mfit\u001b[0m\u001b[0;34m(\u001b[0m\u001b[0mX\u001b[0m\u001b[0;34m,\u001b[0m \u001b[0mY\u001b[0m\u001b[0;34m,\u001b[0m \u001b[0mbatch_size\u001b[0m\u001b[0;34m=\u001b[0m\u001b[0;36m32\u001b[0m\u001b[0;34m,\u001b[0m \u001b[0mepochs\u001b[0m\u001b[0;34m=\u001b[0m\u001b[0;36m10\u001b[0m\u001b[0;34m)\u001b[0m\u001b[0;34m\u001b[0m\u001b[0m\n\u001b[0m\u001b[1;32m     13\u001b[0m \u001b[0my_true\u001b[0m \u001b[0;34m=\u001b[0m \u001b[0mdf_train_label\u001b[0m\u001b[0;34m\u001b[0m\u001b[0m\n\u001b[1;32m     14\u001b[0m \u001b[0my_scores\u001b[0m \u001b[0;34m=\u001b[0m \u001b[0mmodel\u001b[0m\u001b[0;34m.\u001b[0m\u001b[0mpredict\u001b[0m\u001b[0;34m(\u001b[0m\u001b[0mX\u001b[0m\u001b[0;34m)\u001b[0m\u001b[0;34m[\u001b[0m\u001b[0;34m:\u001b[0m\u001b[0;34m,\u001b[0m\u001b[0;36m0\u001b[0m\u001b[0;34m]\u001b[0m\u001b[0;34m\u001b[0m\u001b[0m\n",
      "\u001b[0;32m~/anaconda3/lib/python3.6/site-packages/keras/engine/training.py\u001b[0m in \u001b[0;36mfit\u001b[0;34m(self, x, y, batch_size, epochs, verbose, callbacks, validation_split, validation_data, shuffle, class_weight, sample_weight, initial_epoch, steps_per_epoch, validation_steps, **kwargs)\u001b[0m\n\u001b[1;32m    953\u001b[0m             \u001b[0msample_weight\u001b[0m\u001b[0;34m=\u001b[0m\u001b[0msample_weight\u001b[0m\u001b[0;34m,\u001b[0m\u001b[0;34m\u001b[0m\u001b[0m\n\u001b[1;32m    954\u001b[0m             \u001b[0mclass_weight\u001b[0m\u001b[0;34m=\u001b[0m\u001b[0mclass_weight\u001b[0m\u001b[0;34m,\u001b[0m\u001b[0;34m\u001b[0m\u001b[0m\n\u001b[0;32m--> 955\u001b[0;31m             batch_size=batch_size)\n\u001b[0m\u001b[1;32m    956\u001b[0m         \u001b[0;31m# Prepare validation data.\u001b[0m\u001b[0;34m\u001b[0m\u001b[0;34m\u001b[0m\u001b[0m\n\u001b[1;32m    957\u001b[0m         \u001b[0mdo_validation\u001b[0m \u001b[0;34m=\u001b[0m \u001b[0;32mFalse\u001b[0m\u001b[0;34m\u001b[0m\u001b[0m\n",
      "\u001b[0;32m~/anaconda3/lib/python3.6/site-packages/keras/engine/training.py\u001b[0m in \u001b[0;36m_standardize_user_data\u001b[0;34m(self, x, y, sample_weight, class_weight, check_array_lengths, batch_size)\u001b[0m\n\u001b[1;32m    752\u001b[0m             \u001b[0mfeed_input_shapes\u001b[0m\u001b[0;34m,\u001b[0m\u001b[0;34m\u001b[0m\u001b[0m\n\u001b[1;32m    753\u001b[0m             \u001b[0mcheck_batch_axis\u001b[0m\u001b[0;34m=\u001b[0m\u001b[0;32mFalse\u001b[0m\u001b[0;34m,\u001b[0m  \u001b[0;31m# Don't enforce the batch size.\u001b[0m\u001b[0;34m\u001b[0m\u001b[0m\n\u001b[0;32m--> 754\u001b[0;31m             exception_prefix='input')\n\u001b[0m\u001b[1;32m    755\u001b[0m \u001b[0;34m\u001b[0m\u001b[0m\n\u001b[1;32m    756\u001b[0m         \u001b[0;32mif\u001b[0m \u001b[0my\u001b[0m \u001b[0;32mis\u001b[0m \u001b[0;32mnot\u001b[0m \u001b[0;32mNone\u001b[0m\u001b[0;34m:\u001b[0m\u001b[0;34m\u001b[0m\u001b[0m\n",
      "\u001b[0;32m~/anaconda3/lib/python3.6/site-packages/keras/engine/training_utils.py\u001b[0m in \u001b[0;36mstandardize_input_data\u001b[0;34m(data, names, shapes, check_batch_axis, exception_prefix)\u001b[0m\n\u001b[1;32m    134\u001b[0m                             \u001b[0;34m': expected '\u001b[0m \u001b[0;34m+\u001b[0m \u001b[0mnames\u001b[0m\u001b[0;34m[\u001b[0m\u001b[0mi\u001b[0m\u001b[0;34m]\u001b[0m \u001b[0;34m+\u001b[0m \u001b[0;34m' to have shape '\u001b[0m \u001b[0;34m+\u001b[0m\u001b[0;34m\u001b[0m\u001b[0m\n\u001b[1;32m    135\u001b[0m                             \u001b[0mstr\u001b[0m\u001b[0;34m(\u001b[0m\u001b[0mshape\u001b[0m\u001b[0;34m)\u001b[0m \u001b[0;34m+\u001b[0m \u001b[0;34m' but got array with shape '\u001b[0m \u001b[0;34m+\u001b[0m\u001b[0;34m\u001b[0m\u001b[0m\n\u001b[0;32m--> 136\u001b[0;31m                             str(data_shape))\n\u001b[0m\u001b[1;32m    137\u001b[0m     \u001b[0;32mreturn\u001b[0m \u001b[0mdata\u001b[0m\u001b[0;34m\u001b[0m\u001b[0m\n\u001b[1;32m    138\u001b[0m \u001b[0;34m\u001b[0m\u001b[0m\n",
      "\u001b[0;31mValueError\u001b[0m: Error when checking input: expected input_4 to have shape (3,) but got array with shape (2,)"
     ]
    }
   ],
   "source": [
    "inputs = Input(shape=(3,))\n",
    "x = Dense(64, activation='relu')(inputs)\n",
    "x = Dense(32, activation='relu')(x)\n",
    "x = Dense(16, activation='relu')(x)\n",
    "predictions = Dense(1, activation='sigmoid')(x)\n",
    "\n",
    "model = Model(inputs=inputs, outputs=predictions)\n",
    "adam = keras.optimizers.Adam(lr=0.02, beta_1=0.9, beta_2=0.999, epsilon=None, decay=0.0, amsgrad=False)\n",
    "model.compile(optimizer=adam,\n",
    "              loss='binary_crossentropy',\n",
    "              metrics=['accuracy'])\n",
    "model.fit(X, Y, batch_size=32, epochs=10)\n",
    "y_true = df_train_label\n",
    "y_scores = model.predict(X)[:,0]\n",
    "print (roc_auc_score(y_true, y_scores))"
   ]
  },
  {
   "cell_type": "code",
   "execution_count": null,
   "metadata": {},
   "outputs": [],
   "source": []
  }
 ],
 "metadata": {
  "kernelspec": {
   "display_name": "Python 3",
   "language": "python",
   "name": "python3"
  },
  "language_info": {
   "codemirror_mode": {
    "name": "ipython",
    "version": 3
   },
   "file_extension": ".py",
   "mimetype": "text/x-python",
   "name": "python",
   "nbconvert_exporter": "python",
   "pygments_lexer": "ipython3",
   "version": "3.6.6"
  }
 },
 "nbformat": 4,
 "nbformat_minor": 2
}
